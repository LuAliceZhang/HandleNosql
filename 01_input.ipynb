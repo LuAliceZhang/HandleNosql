{
 "cells": [
  {
   "cell_type": "markdown",
   "metadata": {},
   "source": [
    "# 9 WidgetsInput\n",
    "## 9.1 input box \n",
    "**Problem **\n",
    "We try to input the data as the query with the widgets.DataPicker,\n",
    "The code in the firefox,IE  doesn't work\n",
    "So first install the chrome in Centos\n",
    "- download the rpm from https://dl.google.com/linux/direct/google-chrome-stable_current_x86_64.rpm\n",
    "\n",
    "- yum install .rpm\n",
    "\n",
    "- when download the dependency, source can not be connected, \n",
    "\n",
    "- use vim to  modify the /etc/yum.repos.d/CentOS-Base.repo  with the new sources url \n",
    "\n",
    "- turns out datapicker works in chrome\n"
   ]
  },
  {
   "cell_type": "code",
   "execution_count": 18,
   "metadata": {},
   "outputs": [
    {
     "data": {
      "application/vnd.jupyter.widget-view+json": {
       "model_id": "820ab41aba77439bb78510b85fde0dbe",
       "version_major": 2,
       "version_minor": 0
      },
      "text/plain": [
       "A Jupyter Widget"
      ]
     },
     "metadata": {},
     "output_type": "display_data"
    },
    {
     "data": {
      "application/vnd.jupyter.widget-view+json": {
       "model_id": "bfd08fcae0ee412e8a98779151d86be3",
       "version_major": 2,
       "version_minor": 0
      },
      "text/plain": [
       "A Jupyter Widget"
      ]
     },
     "metadata": {},
     "output_type": "display_data"
    },
    {
     "data": {
      "application/vnd.jupyter.widget-view+json": {
       "model_id": "0eb9444e24184cfdb41a48ea377d8fa4",
       "version_major": 2,
       "version_minor": 0
      },
      "text/plain": [
       "A Jupyter Widget"
      ]
     },
     "metadata": {},
     "output_type": "display_data"
    },
    {
     "data": {
      "application/vnd.jupyter.widget-view+json": {
       "model_id": "59653676ee98441ebe5739be3128bff2",
       "version_major": 2,
       "version_minor": 0
      },
      "text/plain": [
       "A Jupyter Widget"
      ]
     },
     "metadata": {},
     "output_type": "display_data"
    }
   ],
   "source": [
    "#in this part,select a date \n",
    "#the check box means the range of selection \n",
    "#year: True month :False Day:False means that all experiments in the year \n",
    "\n",
    "\n",
    "from IPython.display import display\n",
    "import ipywidgets as widgets\n",
    "\n",
    "w=widgets.DatePicker(\n",
    "    description='Pick a Date',\n",
    "    disabled=False\n",
    ")\n",
    "\n",
    "display(w)\n",
    "\n",
    "y=widgets.Checkbox(\n",
    "    value=False,\n",
    "    description='year',\n",
    "    disabled=False\n",
    ")\n",
    "\n",
    "m=widgets.Checkbox(\n",
    "    value=False,\n",
    "    description='month',\n",
    "    disabled=False\n",
    ")\n",
    "\n",
    "d=widgets.Checkbox(\n",
    "    value=False,\n",
    "    description='day',\n",
    "    disabled=False\n",
    ")\n",
    "display(y)\n",
    "display(m)\n",
    "display(d)"
   ]
  },
  {
   "cell_type": "code",
   "execution_count": 57,
   "metadata": {},
   "outputs": [
    {
     "name": "stdout",
     "output_type": "stream",
     "text": [
      "2016-05-09\n",
      "True\n",
      "False\n",
      "True\n",
      "2016\n",
      "05\n",
      "09\n"
     ]
    }
   ],
   "source": [
    "date=w.value\n",
    "print(date)\n",
    "print(y.value)\n",
    "print(m.value)\n",
    "print(d.value)\n",
    "yy=date.strftime('%Y')\n",
    "mm=date.strftime('%m')\n",
    "dd=date.strftime('%d')\n",
    "print(yy)\n",
    "print(mm)\n",
    "print(dd)"
   ]
  },
  {
   "cell_type": "code",
   "execution_count": null,
   "metadata": {
    "collapsed": true
   },
   "outputs": [],
   "source": []
  },
  {
   "cell_type": "code",
   "execution_count": 58,
   "metadata": {},
   "outputs": [
    {
     "name": "stdout",
     "output_type": "stream",
     "text": [
      "{'Datum': {'$regex': '^2016-.*-09$'}}\n",
      "{'Datum': '2016-02-09',\n",
      " 'Pfad': '\\\\\\\\Burkert\\\\groups\\\\Groups-ING\\\\Mikrofluidik_Optik\\\\Labor\\\\Spektrometer\\\\Messungen\\\\NIR\\\\Absorption\\\\2016-02-09\\\\Lactosefreie '\n",
      "         'Milch plus Lactose NIR 2.5'}\n",
      "{'Datum': '2016-11-09',\n",
      " 'Pfad': '\\\\\\\\Burkert\\\\groups\\\\Groups-ING\\\\Mikrofluidik_Optik\\\\Labor\\\\Spektrometer\\\\Messungen\\\\NIR\\\\Reflexion\\\\2016-11-09\\\\Einzelstoffe '\n",
      "         'FettarmeMilch'}\n",
      "{'Datum': '2016-02-09',\n",
      " 'Pfad': '\\\\\\\\Burkert\\\\groups\\\\Groups-ING\\\\Mikrofluidik_Optik\\\\Labor\\\\Spektrometer\\\\Messungen\\\\NIR\\\\Reflexion\\\\2016-02-09\\\\Lactosefreie '\n",
      "         'Milch plus Lactose'}\n",
      "{'Datum': '2016-03-09',\n",
      " 'Pfad': '\\\\\\\\Burkert\\\\groups\\\\Groups-ING\\\\Mikrofluidik_Optik\\\\Labor\\\\Spektrometer\\\\Messungen\\\\UV-VIS\\\\Absorption\\\\2016-03-09\\\\Spektrometervergleich '\n",
      "         'STS-UV 19ms'}\n",
      "{'Datum': '2016-09-09',\n",
      " 'Pfad': '\\\\\\\\Burkert\\\\groups\\\\Groups-ING\\\\Mikrofluidik_Optik\\\\Labor\\\\Spektrometer\\\\Messungen\\\\UV-VIS\\\\Absorption\\\\2016-09-09\\\\Hohenlohe_Lauge_1%_2016-06-24'}\n",
      "{'Datum': '2016-05-09',\n",
      " 'Pfad': '\\\\\\\\Burkert\\\\groups\\\\Groups-ING\\\\Mikrofluidik_Optik\\\\Labor\\\\Spektrometer\\\\Messungen\\\\UV-VIS\\\\Absorption\\\\2016-05-09\\\\Brilliantschwarz '\n",
      "         'Zeiss'}\n",
      "{'Datum': '2016-08-09',\n",
      " 'Pfad': '\\\\\\\\Burkert\\\\groups\\\\Groups-ING\\\\Mikrofluidik_Optik\\\\Labor\\\\Spektrometer\\\\Messungen\\\\UV-VIS\\\\Absorption\\\\2016-08-09\\\\Hohenlohe_Lauge_1%_2016-06-27'}\n",
      "{'Datum': '2016-02-09',\n",
      " 'Pfad': '\\\\\\\\Burkert\\\\groups\\\\Groups-ING\\\\Mikrofluidik_Optik\\\\Labor\\\\Spektrometer\\\\Messungen\\\\UV-VIS\\\\Reflexion\\\\2016-02-09\\\\Lactosefreie '\n",
      "         'Milch + Lactose FlameS VIS-NIR'}\n"
     ]
    }
   ],
   "source": [
    "import json \n",
    "import re \n",
    "import sys \n",
    "import pprint\n",
    "import shlex \n",
    "import subprocess \n",
    "import pymongo\n",
    "from pymongo import MongoClient \n",
    "\n",
    "client=MongoClient()\n",
    "client=MongoClient('localhost',27017)\n",
    "db=client.mdb\n",
    "#mdb is the database created\n",
    "collection=db.measure2\n",
    "\n",
    "\n",
    "query=''\n",
    "if(y.value and m.value and d.value):\n",
    "    query=yy+'-'+mm+'-'+dd\n",
    "elif(y.value and  m.value and  (not d.value)):\n",
    "    query='^'+yy+'-'+ mm +'-'+'.*'\n",
    "elif(y.value and ( not m.value)  and d.value):\n",
    "    query='^'+yy+'-'+'.*'+'-'+dd+'$'\n",
    "elif(y.value and  (not m.value)and  (not d.value)):\n",
    "    query='^'+yy+'-'\n",
    "elif((not y.value) and m.value and d.value):\n",
    "    query='-'+mm+'-'+dd+'$'\n",
    "elif((not y.value) and m.value and  ( not d.value)):\n",
    "    query='.*'+ '-'+ mm +'-' +'.*'\n",
    "elif((not y.value) and  (not m.value) and  ( d.value)):\n",
    "    query='-'+dd+'$'\n",
    "elif((not y.value)  and (not m.value) and  (  not d.value)):\n",
    "    query='.*'\n",
    "    \n",
    "\n",
    "\n",
    "#select according to the date \n",
    "# query='-07$'\n",
    "# query=''\n",
    "# if(y.value):\n",
    "#     query=query+yy+'-'\n",
    "# else:\n",
    "#     query=query+'****'+'-'\n",
    "# if(m.value):\n",
    "#     query=query+mm+'-'\n",
    "# else:\n",
    "#     query=query+'**'+'-'\n",
    "# if(d.value):\n",
    "#     query=query+dd\n",
    "# else:\n",
    "#     query=query+'**'\n",
    "\n",
    "q1={'Datum':{'$regex':query}}\n",
    "print(q1)\n",
    "\n",
    "displ={'_id':False,'Pfad':True,'Datum':True}\n",
    "\n",
    "cursor=collection.find(q1,displ)\n",
    "for ii in cursor:\n",
    "    pprint.pprint(ii)\n"
   ]
  },
  {
   "cell_type": "code",
   "execution_count": null,
   "metadata": {
    "collapsed": true
   },
   "outputs": [],
   "source": []
  },
  {
   "cell_type": "code",
   "execution_count": null,
   "metadata": {
    "collapsed": true
   },
   "outputs": [],
   "source": []
  }
 ],
 "metadata": {
  "kernelspec": {
   "display_name": "Python 3",
   "language": "python",
   "name": "python3"
  },
  "language_info": {
   "codemirror_mode": {
    "name": "ipython",
    "version": 3
   },
   "file_extension": ".py",
   "mimetype": "text/x-python",
   "name": "python",
   "nbconvert_exporter": "python",
   "pygments_lexer": "ipython3",
   "version": "3.6.2"
  },
  "varInspector": {
   "cols": {
    "lenName": 16,
    "lenType": 16,
    "lenVar": 40
   },
   "kernels_config": {
    "python": {
     "delete_cmd_postfix": "",
     "delete_cmd_prefix": "del ",
     "library": "var_list.py",
     "varRefreshCmd": "print(var_dic_list())"
    },
    "r": {
     "delete_cmd_postfix": ") ",
     "delete_cmd_prefix": "rm(",
     "library": "var_list.r",
     "varRefreshCmd": "cat(var_dic_list()) "
    }
   },
   "types_to_exclude": [
    "module",
    "function",
    "builtin_function_or_method",
    "instance",
    "_Feature"
   ],
   "window_display": false
  }
 },
 "nbformat": 4,
 "nbformat_minor": 2
}
