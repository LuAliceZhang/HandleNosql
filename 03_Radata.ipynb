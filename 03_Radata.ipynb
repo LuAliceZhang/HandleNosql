{
 "cells": [
  {
   "cell_type": "code",
   "execution_count": null,
   "metadata": {},
   "outputs": [],
   "source": [
    "#First classify the radata to several main kinds \n",
    "\n",
    "import json \n",
    "import re \n",
    "import sys \n",
    "import pprint\n",
    "import shlex \n",
    "import subprocess \n",
    "import pymongo\n",
    "from pymongo import MongoClient \n",
    "\n",
    "\n",
    "client=MongoClient()\n",
    "client=MongoClient('localhost',27017)\n",
    "db=client.mdb\n",
    "#mdb is the database created\n",
    "collection=db.measure2\n",
    "\n",
    "\n",
    "displ={'_id':False,'Pfad':True,'Datum':True}\n",
    "\n",
    "cursor=collection.distinct('Rdata')\n",
    "# for ii in cursor:\n",
    "#     pprint.pprint(ii)\n",
    "type(cursor)\n",
    "rawDat=set()\n",
    "oriDat=cursor\n",
    "oriDat.sort()\n",
    "\n",
    "for ii in cursor: \n",
    "    temp=ii.split()\n",
    "#     print (ii)\n",
    "#     print (temp)\n",
    "    if(len(temp)>0):\n",
    "        rawDat.add(temp[0])\n",
    "        \n",
    "print(len(rawDat))\n",
    "\n",
    "rawDat=list(rawDat)\n",
    "rawDat.sort()\n",
    "\n",
    "type(collection.find_one())\n",
    "\n",
    "print(collection.find().keys())\n",
    "keyList=list(collection.find_one().keys())\n",
    "print((len(keyList)))\n",
    "print(keyList)"
   ]
  },
  {
   "cell_type": "code",
   "execution_count": null,
   "metadata": {},
   "outputs": [],
   "source": [
    "cursor=collection.find()\n",
    "keysAll=set()\n",
    "for ii in cursor:\n",
    "#     pprint.pprint(ii)\n",
    "    for jj in list(ii.keys()):\n",
    "        keysAll.add(jj)\n",
    "print(len(list(keysAll)))\n",
    "pprint.pprint(keysAll)"
   ]
  },
  {
   "cell_type": "code",
   "execution_count": null,
   "metadata": {},
   "outputs": [],
   "source": [
    "import ipywidgets as widgets\n",
    "from IPython.display import display\n",
    "\n",
    "m=widgets.SelectMultiple(\n",
    "    options=oriDat,\n",
    "    value=[],\n",
    "    #rows=10,\n",
    "    description='Rdata',\n",
    "    disabled=False\n",
    ")\n",
    "display(m)\n",
    "#use ctrl to multi choices"
   ]
  },
  {
   "cell_type": "code",
   "execution_count": null,
   "metadata": {},
   "outputs": [],
   "source": [
    "#choose 1 or more kinds of data, then return the experiments  which contain any one of the selections\n",
    "m.value\n",
    "conditions={}\n",
    "conditions=list(m.value)\n",
    "print(conditions)\n",
    "que_Roh={'Rdata':{'$in':conditions}}\n",
    "\n",
    "# for ii in collection.find(que_Roh,{\"Rdata\":True}):\n",
    "#     pprint.pprint(ii)\n",
    "#collection.find().distince()\n",
    "collection.find_one()"
   ]
  },
  {
   "cell_type": "code",
   "execution_count": null,
   "metadata": {},
   "outputs": [],
   "source": [
    "#choose 1 or more kinds of data, then return the experiments  which contains all of the selections\n",
    "m.value\n",
    "conditionsall={}\n",
    "conditionsall=list(m.value)\n",
    "print(conditions)\n",
    "que_Roh_all={'Rdata':{'$all':conditionsall}}\n",
    "\n",
    "for ii in collection.find(que_Roh_all,{\"Rdata\":True,\"Pfad\":True}):\n",
    "    pprint.pprint(ii)"
   ]
  },
  {
   "cell_type": "markdown",
   "metadata": {},
   "source": [
    "## 9.5 Multicolums\n",
    "All queries above are made according to one property of the experiment, then we want to do some query based on more than one properties,\n",
    "for example, we want to know which experiment was done in year 2018 and measured 'dataa'.\n"
   ]
  },
  {
   "cell_type": "code",
   "execution_count": null,
   "metadata": {},
   "outputs": [],
   "source": [
    "from ipywidgets import Button, Layout\n",
    "\n",
    "b = Button(description='(50% width, 80px height) button',\n",
    "           layout=Layout(width='50%', height='80px'))\n",
    "Button(description='Another button with the same layour',layout=b.layout)"
   ]
  },
  {
   "cell_type": "code",
   "execution_count": null,
   "metadata": {},
   "outputs": [],
   "source": []
  },
  {
   "cell_type": "code",
   "execution_count": null,
   "metadata": {
    "collapsed": true
   },
   "outputs": [],
   "source": []
  }
 ],
 "metadata": {
  "kernelspec": {
   "display_name": "Python 3",
   "language": "python",
   "name": "python3"
  },
  "language_info": {
   "codemirror_mode": {
    "name": "ipython",
    "version": 3
   },
   "file_extension": ".py",
   "mimetype": "text/x-python",
   "name": "python",
   "nbconvert_exporter": "python",
   "pygments_lexer": "ipython3",
   "version": "3.6.2"
  },
  "varInspector": {
   "cols": {
    "lenName": 16,
    "lenType": 16,
    "lenVar": 40
   },
   "kernels_config": {
    "python": {
     "delete_cmd_postfix": "",
     "delete_cmd_prefix": "del ",
     "library": "var_list.py",
     "varRefreshCmd": "print(var_dic_list())"
    },
    "r": {
     "delete_cmd_postfix": ") ",
     "delete_cmd_prefix": "rm(",
     "library": "var_list.r",
     "varRefreshCmd": "cat(var_dic_list()) "
    }
   },
   "types_to_exclude": [
    "module",
    "function",
    "builtin_function_or_method",
    "instance",
    "_Feature"
   ],
   "window_display": false
  }
 },
 "nbformat": 4,
 "nbformat_minor": 2
}
