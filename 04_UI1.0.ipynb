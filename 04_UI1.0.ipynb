{
 "cells": [
  {
   "cell_type": "code",
   "execution_count": 38,
   "metadata": {},
   "outputs": [
    {
     "data": {
      "application/vnd.jupyter.widget-view+json": {
       "model_id": "4b4bab64b8104ef09faf4ed6d4ea7259",
       "version_major": 2,
       "version_minor": 0
      },
      "text/plain": [
       "A Jupyter Widget"
      ]
     },
     "metadata": {},
     "output_type": "display_data"
    },
    {
     "data": {
      "application/vnd.jupyter.widget-view+json": {
       "model_id": "dbf8e4b07d1e46ee83453e0147e53660",
       "version_major": 2,
       "version_minor": 0
      },
      "text/plain": [
       "A Jupyter Widget"
      ]
     },
     "metadata": {},
     "output_type": "display_data"
    },
    {
     "data": {
      "application/vnd.jupyter.widget-view+json": {
       "model_id": "348c4d57e7254ac69e550b54f7327164",
       "version_major": 2,
       "version_minor": 0
      },
      "text/plain": [
       "A Jupyter Widget"
      ]
     },
     "metadata": {},
     "output_type": "display_data"
    },
    {
     "data": {
      "application/vnd.jupyter.widget-view+json": {
       "model_id": "1374c731b6654c56869d2714f02b3307",
       "version_major": 2,
       "version_minor": 0
      },
      "text/plain": [
       "A Jupyter Widget"
      ]
     },
     "metadata": {},
     "output_type": "display_data"
    },
    {
     "data": {
      "application/vnd.jupyter.widget-view+json": {
       "model_id": "c039a31ec627478aa53c7d3b4ee4c792",
       "version_major": 2,
       "version_minor": 0
      },
      "text/plain": [
       "A Jupyter Widget"
      ]
     },
     "metadata": {},
     "output_type": "display_data"
    }
   ],
   "source": [
    "#we use the start and end to choose the date range\n",
    "#key1,data1 key2,data2 key3,data3 \n",
    "#the result return all experiments have all 4 conditions above\n",
    "\n",
    "import ipywidgets as widgets\n",
    "from IPython.display import display\n",
    "import pprint\n",
    "import pymongo\n",
    "from pymongo import MongoClient \n",
    "\n",
    "start=widgets.DatePicker(\n",
    "    description='Start',\n",
    "    disabled=False\n",
    ")\n",
    "\n",
    "end=widgets.DatePicker(\n",
    "    description='End',\n",
    "    disabled=False \n",
    ")\n",
    "display(start)\n",
    "display(end)\n",
    "\n",
    "\n",
    "\n",
    "client=MongoClient()\n",
    "client=MongoClient('localhost',27017)\n",
    "db=client.mdb\n",
    "#mdb is the database created\n",
    "collection=db.measure2\n",
    "\n",
    "cursor=collection.distinct('Rohdaten')\n",
    "\n",
    "raw=set()\n",
    "original=cursor\n",
    "original.sort()\n",
    "\n",
    "for ii in cursor: \n",
    "    temp=ii.split()\n",
    "    if(len(temp)>0):\n",
    "        raw.add(temp[0])\n",
    "\n",
    "raw=list(raw)\n",
    "raw.sort()\n",
    "\n",
    "\n",
    "\n",
    "key1=widgets.SelectMultiple(\n",
    "    options=original,\n",
    "    value=[],\n",
    "    #rows=10,\n",
    "    description='data1',\n",
    "    disabled=False\n",
    ")\n",
    "display(key1)\n",
    "\n",
    "\n",
    "key2=widgets.SelectMultiple(\n",
    "    options=['aa', 'Re', 'Fl'],\n",
    "    value=[],\n",
    "    #rows=10,\n",
    "    description='data2',\n",
    "    disabled=False\n",
    ")\n",
    "display(key2)  \n",
    "\n",
    "key3=widgets.SelectMultiple(\n",
    "    options=['N', 'S'],\n",
    "    value=[],\n",
    "    description='data3',\n",
    "    disabled=False\n",
    ")\n",
    "display(key3)"
   ]
  },
  {
   "cell_type": "code",
   "execution_count": 39,
   "metadata": {},
   "outputs": [
    {
     "ename": "AttributeError",
     "evalue": "'NoneType' object has no attribute 'strftime'",
     "output_type": "error",
     "traceback": [
      "\u001b[0;31m---------------------------------------------------------------------------\u001b[0m",
      "\u001b[0;31mAttributeError\u001b[0m                            Traceback (most recent call last)",
      "\u001b[0;32m<ipython-input-39-26e6eaada04e>\u001b[0m in \u001b[0;36m<module>\u001b[0;34m()\u001b[0m\n\u001b[1;32m      1\u001b[0m \u001b[0;34m\u001b[0m\u001b[0m\n\u001b[0;32m----> 2\u001b[0;31m \u001b[0mss\u001b[0m\u001b[0;34m=\u001b[0m\u001b[0mstart\u001b[0m\u001b[0;34m.\u001b[0m\u001b[0mvalue\u001b[0m\u001b[0;34m.\u001b[0m\u001b[0mstrftime\u001b[0m\u001b[0;34m(\u001b[0m\u001b[0;34m'%Y-%m-%d'\u001b[0m\u001b[0;34m)\u001b[0m\u001b[0;34m\u001b[0m\u001b[0m\n\u001b[0m\u001b[1;32m      3\u001b[0m \u001b[0men\u001b[0m\u001b[0;34m=\u001b[0m\u001b[0mend\u001b[0m\u001b[0;34m.\u001b[0m\u001b[0mvalue\u001b[0m\u001b[0;34m.\u001b[0m\u001b[0mstrftime\u001b[0m\u001b[0;34m(\u001b[0m\u001b[0;34m'%Y-%m-%d'\u001b[0m\u001b[0;34m)\u001b[0m\u001b[0;34m\u001b[0m\u001b[0m\n\u001b[1;32m      4\u001b[0m \u001b[0;34m\u001b[0m\u001b[0m\n\u001b[1;32m      5\u001b[0m \u001b[0mprint\u001b[0m\u001b[0;34m(\u001b[0m\u001b[0mss\u001b[0m\u001b[0;34m)\u001b[0m\u001b[0;34m\u001b[0m\u001b[0m\n",
      "\u001b[0;31mAttributeError\u001b[0m: 'NoneType' object has no attribute 'strftime'"
     ]
    }
   ],
   "source": [
    "\n",
    "ss=start.value.strftime('%Y-%m-%d')\n",
    "en=end.value.strftime('%Y-%m-%d')\n",
    "\n",
    "print(ss)\n",
    "print(en)\n",
    "# type(ss)\n",
    "# type(en)\n",
    "\n",
    "daterange={'Datum':{ '$gte':ss,'$lte':en}}\n",
    "displ={'_id':False,'Datum':True,'Pfad':True}\n",
    "key1list={}\n",
    "key1list=list(key1.value)\n",
    "que_key1={'data1':{'$in':key1list}}\n",
    "\n",
    "\n",
    "key2list={}\n",
    "key2list=list(key2.value)\n",
    "que_key2={'data2':{'$in':key2list}}\n",
    "\n",
    "key3list={}\n",
    "key3list=list(key3.value)\n",
    "que_key3={'data3':{'$in':key3list}}\n",
    "\n",
    "\n",
    "cursor2=collection.find({\"$and\":[daterange,que_key1,que_key2,que_key3]},displ)\n",
    "for ii in cursor2:\n",
    "    pprint.pprint(ii)\n",
    "\n"
   ]
  },
  {
   "cell_type": "code",
   "execution_count": null,
   "metadata": {
    "collapsed": true
   },
   "outputs": [],
   "source": []
  }
 ],
 "metadata": {
  "kernelspec": {
   "display_name": "Python 3",
   "language": "python",
   "name": "python3"
  },
  "language_info": {
   "codemirror_mode": {
    "name": "ipython",
    "version": 3
   },
   "file_extension": ".py",
   "mimetype": "text/x-python",
   "name": "python",
   "nbconvert_exporter": "python",
   "pygments_lexer": "ipython3",
   "version": "3.6.2"
  },
  "varInspector": {
   "cols": {
    "lenName": 16,
    "lenType": 16,
    "lenVar": 40
   },
   "kernels_config": {
    "python": {
     "delete_cmd_postfix": "",
     "delete_cmd_prefix": "del ",
     "library": "var_list.py",
     "varRefreshCmd": "print(var_dic_list())"
    },
    "r": {
     "delete_cmd_postfix": ") ",
     "delete_cmd_prefix": "rm(",
     "library": "var_list.r",
     "varRefreshCmd": "cat(var_dic_list()) "
    }
   },
   "types_to_exclude": [
    "module",
    "function",
    "builtin_function_or_method",
    "instance",
    "_Feature"
   ],
   "window_display": false
  }
 },
 "nbformat": 4,
 "nbformat_minor": 2
}
