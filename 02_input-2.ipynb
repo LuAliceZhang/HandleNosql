{
 "cells": [
  {
   "cell_type": "markdown",
   "metadata": {},
   "source": [
    "## 9.2 input box -2\n",
    "for query on the date, there are 8 cases \n",
    "- 2017-01-01\n",
    "- 2017-01-\\*\\*\n",
    "- 2017-\\*\\*-01\n",
    "- 2017-\\*\\*-\\*\\*\n",
    "- \\*\\*\\*\\*-01-01\n",
    "- \\*\\*\\*\\*-01-\\*\\*\n",
    "- \\*\\*\\*\\*-\\*\\*-01\n",
    "- \\*\\*\\*\\*-\\*\\*-\\*\\*\n",
    "\n",
    "so we use the ```regex ``` to transform the query to a regular command to use the pymongo  \n",
    "as mentioned above, for the third case, it means that there is no specific condition. So,\n",
    "we return all items.\n"
   ]
  },
  {
   "cell_type": "code",
   "execution_count": null,
   "metadata": {},
   "outputs": [],
   "source": [
    "#in this part,select a date \n",
    "#the check box means the range of selection \n",
    "#year: True month :False Day:False means that all experiments in the year \n",
    "\n",
    "\n",
    "from IPython.display import display\n",
    "import ipywidgets as widgets\n",
    "\n",
    "w=widgets.DatePicker(\n",
    "    description='Pick a Date',\n",
    "    disabled=False\n",
    ")\n",
    "\n",
    "display(w)\n",
    "\n",
    "y=widgets.Checkbox(\n",
    "    value=False,\n",
    "    description='year',\n",
    "    disabled=False\n",
    ")\n",
    "\n",
    "m=widgets.Checkbox(\n",
    "    value=False,\n",
    "    description='month',\n",
    "    disabled=False\n",
    ")\n",
    "\n",
    "d=widgets.Checkbox(\n",
    "    value=False,\n",
    "    description='day',\n",
    "    disabled=False\n",
    ")\n",
    "display(y)\n",
    "display(m)\n",
    "display(d)"
   ]
  },
  {
   "cell_type": "code",
   "execution_count": null,
   "metadata": {},
   "outputs": [],
   "source": [
    "date=w.value\n",
    "print(date)\n",
    "print(y.value)\n",
    "print(m.value)\n",
    "print(d.value)\n",
    "yy=date.strftime('%Y')\n",
    "mm=date.strftime('%m')\n",
    "dd=date.strftime('%d')\n",
    "print(yy)\n",
    "print(mm)\n",
    "print(dd)"
   ]
  },
  {
   "cell_type": "code",
   "execution_count": null,
   "metadata": {
    "collapsed": true
   },
   "outputs": [],
   "source": []
  },
  {
   "cell_type": "code",
   "execution_count": null,
   "metadata": {},
   "outputs": [],
   "source": [
    "import json \n",
    "import re \n",
    "import sys \n",
    "import pprint\n",
    "import shlex \n",
    "import subprocess \n",
    "import pymongo\n",
    "from pymongo import MongoClient \n",
    "\n",
    "client=MongoClient()\n",
    "client=MongoClient('localhost',27017)\n",
    "db=client.mdb\n",
    "#mdb is the database created\n",
    "collection=db.measure2\n",
    "\n",
    "\n",
    "query=''\n",
    "if(y.value and m.value and d.value):\n",
    "    query=yy+'-'+mm+'-'+dd\n",
    "elif(y.value and  m.value and  (not d.value)):\n",
    "    query='^'+yy+'-'+ mm +'-'+'.*'\n",
    "elif(y.value and ( not m.value)  and d.value):\n",
    "    query='^'+yy+'-'+'.*'+'-'+dd+'$'\n",
    "elif(y.value and  (not m.value)and  (not d.value)):\n",
    "    query='^'+yy+'-'\n",
    "elif((not y.value) and m.value and d.value):\n",
    "    query='-'+mm+'-'+dd+'$'\n",
    "elif((not y.value) and m.value and  ( not d.value)):\n",
    "    query='.*'+ '-'+ mm +'-' +'.*'\n",
    "elif((not y.value) and  (not m.value) and  ( d.value)):\n",
    "    query='-'+dd+'$'\n",
    "elif((not y.value)  and (not m.value) and  (  not d.value)):\n",
    "    query='.*'\n",
    "    \n",
    "\n",
    "\n",
    "#select according to the date \n",
    "# query='-07$'\n",
    "# query=''\n",
    "# if(y.value):\n",
    "#     query=query+yy+'-'\n",
    "# else:\n",
    "#     query=query+'****'+'-'\n",
    "# if(m.value):\n",
    "#     query=query+mm+'-'\n",
    "# else:\n",
    "#     query=query+'**'+'-'\n",
    "# if(d.value):\n",
    "#     query=query+dd\n",
    "# else:\n",
    "#     query=query+'**'\n",
    "\n",
    "q1={'Datum':{'$regex':query}}\n",
    "print(q1)\n",
    "\n",
    "displ={'_id':False,'Pfad':True,'Datum':True}\n",
    "\n",
    "cursor=collection.find(q1,displ)\n",
    "for ii in cursor:\n",
    "    pprint.pprint(ii)\n"
   ]
  },
  {
   "cell_type": "markdown",
   "metadata": {
    "collapsed": true
   },
   "source": [
    "## 9.3  Query with date range "
   ]
  },
  {
   "cell_type": "code",
   "execution_count": null,
   "metadata": {},
   "outputs": [],
   "source": [
    "#choose the start date and end date\n",
    "#the result return the experiments done among this interval \n",
    "\n",
    "start=widgets.DatePicker(\n",
    "    description='Start',\n",
    "    disabled=False\n",
    ")\n",
    "\n",
    "end=widgets.DatePicker(\n",
    "    description='End',\n",
    "    disabled=False \n",
    ")\n",
    "display(start)\n",
    "display(end)\n"
   ]
  },
  {
   "cell_type": "code",
   "execution_count": null,
   "metadata": {},
   "outputs": [],
   "source": []
  },
  {
   "cell_type": "code",
   "execution_count": null,
   "metadata": {},
   "outputs": [],
   "source": [
    "import json \n",
    "import re \n",
    "import sys \n",
    "import pprint\n",
    "import shlex \n",
    "import subprocess \n",
    "import pymongo\n",
    "from pymongo import MongoClient \n",
    "\n",
    "\n",
    "# ss=start.value.strftime('%Y-%m-%d')\n",
    "# en=end.value.strftime('%Y-%m-%d')\n",
    "\n",
    "# print(ss)\n",
    "# print(en)\n",
    "# type(ss)\n",
    "# type(en)\n",
    "\n",
    "client=MongoClient()\n",
    "client=MongoClient('localhost',27017)\n",
    "db=client.mdb\n",
    "#mdb is the database created\n",
    "collection=db.measure2\n",
    "# q2={'Datum':{ '$gte':ss,'$lte':en}}\n",
    "# print(q2)\n",
    "\n",
    "# displ={'_id':False,'Pfad':True,'Datum':True}\n",
    "\n",
    "# cursor2=collection.find(q2,displ)\n",
    "# for ii in cursor2:\n",
    "#     pprint.pprint(ii)\n",
    "\n",
    "cursor3=collection.find_one({\"DataPath\":{\"$exists\": True}},sort=[(\"DataPath\",1)])[\"DataPath\"]\n",
    "print(cursor3)\n",
    "\n",
    "cursor4=collection.find({},{\"DataPath\":1,\"Datum\":1})\n",
    "\n",
    "# for ii in cursor4:\n",
    "#     print(ii)"
   ]
  },
  {
   "cell_type": "markdown",
   "metadata": {},
   "source": [
    "## 9.4 Query on the Rawdata \n",
    "**Problem**\n",
    "The kind of Rohndaten is over 1300, which is hard to show in a single toogle box\n",
    "So the method is to use several colum or generate the choices autometically "
   ]
  }
 ],
 "metadata": {
  "kernelspec": {
   "display_name": "Python 3",
   "language": "python",
   "name": "python3"
  },
  "language_info": {
   "codemirror_mode": {
    "name": "ipython",
    "version": 3
   },
   "file_extension": ".py",
   "mimetype": "text/x-python",
   "name": "python",
   "nbconvert_exporter": "python",
   "pygments_lexer": "ipython3",
   "version": "3.6.2"
  },
  "varInspector": {
   "cols": {
    "lenName": 16,
    "lenType": 16,
    "lenVar": 40
   },
   "kernels_config": {
    "python": {
     "delete_cmd_postfix": "",
     "delete_cmd_prefix": "del ",
     "library": "var_list.py",
     "varRefreshCmd": "print(var_dic_list())"
    },
    "r": {
     "delete_cmd_postfix": ") ",
     "delete_cmd_prefix": "rm(",
     "library": "var_list.r",
     "varRefreshCmd": "cat(var_dic_list()) "
    }
   },
   "types_to_exclude": [
    "module",
    "function",
    "builtin_function_or_method",
    "instance",
    "_Feature"
   ],
   "window_display": false
  }
 },
 "nbformat": 4,
 "nbformat_minor": 2
}
